{
 "cells": [
  {
   "cell_type": "markdown",
   "id": "173b8eb0-20dc-466e-998e-a013e103d723",
   "metadata": {},
   "source": [
    "Part -1 Python Basics (Variables)"
   ]
  },
  {
   "cell_type": "markdown",
   "id": "ef8c35ea-2872-4225-9838-cda566b2ede2",
   "metadata": {},
   "source": [
    "1. Print Your Name with your Father name and Date of birth using suitable escape sequence charactor"
   ]
  },
  {
   "cell_type": "code",
   "execution_count": 1,
   "id": "4e01a5f4-3da0-44a6-b7bb-887da94f496d",
   "metadata": {},
   "outputs": [
    {
     "name": "stdout",
     "output_type": "stream",
     "text": [
      "NAME : sajjad hashmi\n",
      "FATHER NAME : ibne hussain hashmi\n",
      "DATE OF BIRTH : 03-05-2000\n"
     ]
    }
   ],
   "source": [
    "Name = input(\"ENTER YOUR NAME\")\n",
    "Father_name =input(\"ENTER YOUR FATHER NAME\")\n",
    "Date_of_birth =input(\"ENTER YOUR DATE OF BIRTH\")\n",
    "print(f\"NAME : {Name}\")\n",
    "print(f\"FATHER NAME : {Father_name}\")\n",
    "print(f\"DATE OF BIRTH : {Date_of_birth}\")\n"
   ]
  },
  {
   "cell_type": "markdown",
   "id": "d0f22e84",
   "metadata": {},
   "source": [
    "2. Write your small bio using variables and print it using print function"
   ]
  },
  {
   "cell_type": "code",
   "execution_count": 7,
   "id": "b9408ad3",
   "metadata": {},
   "outputs": [
    {
     "name": "stdout",
     "output_type": "stream",
     "text": [
      "My name is sajjad hashmi.\n",
      "I am 20 years old and I study in Class b.com.\n",
      "I like to reading book and sketching .\n",
      "I enjoying to play cricket and football.\n"
     ]
    }
   ],
   "source": [
    "name =input(\"ENTER YOUR NAME HERE\")\n",
    "age = input(\"ENTER YOUR AGE HERE\")\n",
    "classstuding = input(\"ENTER YOUR COLLEGE / UNIVERSITY STUDYING HERE\")\n",
    "hobbie1 = input(\"ENTER YOUR HOBBIES HERE\")\n",
    "hobbie2 = input(\"ENTER YOUR HOBBIES HERE\")\n",
    "activity1 = input(\"ENTER YOUR ACTIVITY HERE\")\n",
    "activity2 = input(\"ENTER YOUR ACTIVITY HERE\")\n",
    "print(f\"My name is {name}.\")\n",
    "print(f\"I am {age} years old and I study in Class {classstuding}.\")\n",
    "print(f\"I like to {hobbie1} and {hobbie2}.\")\n",
    "print(f\"I enjoying to play {activity1} and {activity2}.\")"
   ]
  },
  {
   "cell_type": "markdown",
   "id": "2b2a9af2",
   "metadata": {},
   "source": [
    "3. Write a program in which use all the operators we can use in Python"
   ]
  },
  {
   "cell_type": "code",
   "execution_count": 14,
   "id": "bff88659",
   "metadata": {},
   "outputs": [
    {
     "name": "stdout",
     "output_type": "stream",
     "text": [
      "RESULT : 1\n"
     ]
    }
   ],
   "source": [
    "operators = input(\"ENTER YOUR OPERATOR HERE (+ , - , * , / , % , // ,**) :\")\n",
    "num1 = int(input(\"ENTER YOUR FIRST NUMBER HERE\"))\n",
    "num2 = int(input(\"ENTER YOUR SECOND NUMBER HERE\"))\n",
    "if operators == \"+\":\n",
    "    result = num1 + num2 \n",
    "elif operators == \"-\" :\n",
    "    result = num1 - num2 \n",
    "elif operators == \"*\" :\n",
    "    result = num1 * num2 \n",
    "elif operators == \"/\" :\n",
    "    result = num1 / num2 \n",
    "elif operators == \"%\" :\n",
    "    result = num1 % num2 \n",
    "elif operators == \"//\" :\n",
    "    result = num1 // num2 \n",
    "elif operators == \"**\" :\n",
    "    result = num1 ** num2 \n",
    "else:\n",
    "    result = \"invalid operaator\"\n",
    "print(f\"RESULT : {result}\")"
   ]
  },
  {
   "cell_type": "markdown",
   "id": "149f188a",
   "metadata": {},
   "source": [
    "4. Completes the following steps of small task:\n",
    "Mention Marks of English , Islamiat and Maths out of 100 in 3 different variables\n",
    "Mention Variable of Total Marks and assign 300 to it\n",
    "Calculate Percentage"
   ]
  },
  {
   "cell_type": "code",
   "execution_count": 16,
   "id": "cffadcbf",
   "metadata": {},
   "outputs": [
    {
     "name": "stdout",
     "output_type": "stream",
     "text": [
      "MARKS OF ENGLISH : 78 / 100\n",
      "MARKS OF ISLAMIAT : 86 / 100\n",
      "MARKS OF MARKS : 98 /100\n",
      "OBTAINED MARKS : 262 / 300\n",
      "PERCENTAGE : 87.33%\n"
     ]
    }
   ],
   "source": [
    "Marks_of_English =int(input(\"ENTER YOUR ENGLISH MARKS HERE:\"))\n",
    "Marks_of_Islamiat =int(input(\"ENTER YOUR ISLAMIAT MARKS HERE:\"))\n",
    "Marks_of_Maths=int(input(\"ENTER YOUR MATHS MARKS HERE:\"))\n",
    "total_marks = 300\n",
    "optained_marks = Marks_of_Islamiat + Marks_of_English + Marks_of_Maths\n",
    "percentage = (optained_marks / total_marks ) * 100\n",
    "print(f\"MARKS OF ENGLISH : {Marks_of_English} / 100\")\n",
    "print(f\"MARKS OF ISLAMIAT : {Marks_of_Islamiat} / 100\")\n",
    "print(f\"MARKS OF MARKS : {Marks_of_Maths} /100\")\n",
    "print(f\"OBTAINED MARKS : {optained_marks} / 300\")\n",
    "print(f\"PERCENTAGE : {percentage:.2f}%\")"
   ]
  },
  {
   "cell_type": "code",
   "execution_count": null,
   "id": "17ef9b65",
   "metadata": {},
   "outputs": [],
   "source": []
  },
  {
   "cell_type": "markdown",
   "id": "b24b0080",
   "metadata": {},
   "source": []
  },
  {
   "cell_type": "markdown",
   "id": "8ee7818a",
   "metadata": {},
   "source": []
  },
  {
   "cell_type": "markdown",
   "id": "5192d9d7",
   "metadata": {},
   "source": []
  }
 ],
 "metadata": {
  "kernelspec": {
   "display_name": "base",
   "language": "python",
   "name": "python3"
  },
  "language_info": {
   "codemirror_mode": {
    "name": "ipython",
    "version": 3
   },
   "file_extension": ".py",
   "mimetype": "text/x-python",
   "name": "python",
   "nbconvert_exporter": "python",
   "pygments_lexer": "ipython3",
   "version": "3.12.7"
  }
 },
 "nbformat": 4,
 "nbformat_minor": 5
}
